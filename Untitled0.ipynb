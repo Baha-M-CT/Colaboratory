{
  "nbformat": 4,
  "nbformat_minor": 0,
  "metadata": {
    "colab": {
      "name": "Untitled0.ipynb",
      "provenance": [],
      "authorship_tag": "ABX9TyMia1ruBs+fMZUSwSIpfJ56",
      "include_colab_link": true
    },
    "kernelspec": {
      "name": "python3",
      "display_name": "Python 3"
    }
  },
  "cells": [
    {
      "cell_type": "markdown",
      "metadata": {
        "id": "view-in-github",
        "colab_type": "text"
      },
      "source": [
        "<a href=\"https://colab.research.google.com/github/GitForProjects/Colaboratory/blob/main/Untitled0.ipynb\" target=\"_parent\"><img src=\"https://colab.research.google.com/assets/colab-badge.svg\" alt=\"Open In Colab\"/></a>"
      ]
    },
    {
      "cell_type": "code",
      "metadata": {
        "colab": {
          "base_uri": "https://localhost:8080/"
        },
        "id": "oiHfR9FGLVla",
        "outputId": "a6e1fb7d-0e87-41c8-cf0d-54f089e0c579"
      },
      "source": [
        "first_name = input(\"please enter your first name \")\r\n",
        "last_name = input(\"please enter your last name \")\r\n",
        "print(\"Hello and welcome to Python class\",first_name,last_name)"
      ],
      "execution_count": null,
      "outputs": [
        {
          "output_type": "stream",
          "text": [
            "please enter your first name Baha\n",
            "please enter your last name Mamet\n",
            "Hello and welcome to Python class Baha Mamet\n"
          ],
          "name": "stdout"
        }
      ]
    }
  ]
}